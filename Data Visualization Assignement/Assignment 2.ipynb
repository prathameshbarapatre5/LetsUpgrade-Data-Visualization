{
 "cells": [
  {
   "cell_type": "code",
   "execution_count": 1,
   "metadata": {},
   "outputs": [],
   "source": [
    "#Importing Libraries\n",
    "import numpy as np\n",
    "from numpy.random import randn, randint, uniform, sample\n",
    "import pandas as pd\n",
    "import matplotlib.pyplot as plt\n",
    "import seaborn as sns\n",
    "%matplotlib inline"
   ]
  },
  {
   "cell_type": "code",
   "execution_count": 2,
   "metadata": {},
   "outputs": [
    {
     "data": {
      "text/html": [
       "<div>\n",
       "<style scoped>\n",
       "    .dataframe tbody tr th:only-of-type {\n",
       "        vertical-align: middle;\n",
       "    }\n",
       "\n",
       "    .dataframe tbody tr th {\n",
       "        vertical-align: top;\n",
       "    }\n",
       "\n",
       "    .dataframe thead th {\n",
       "        text-align: right;\n",
       "    }\n",
       "</style>\n",
       "<table border=\"1\" class=\"dataframe\">\n",
       "  <thead>\n",
       "    <tr style=\"text-align: right;\">\n",
       "      <th></th>\n",
       "      <th>a</th>\n",
       "      <th>b</th>\n",
       "      <th>c</th>\n",
       "      <th>d</th>\n",
       "    </tr>\n",
       "  </thead>\n",
       "  <tbody>\n",
       "    <tr>\n",
       "      <th>0</th>\n",
       "      <td>-0.430665</td>\n",
       "      <td>0.916951</td>\n",
       "      <td>-1.474236</td>\n",
       "      <td>-1.413509</td>\n",
       "    </tr>\n",
       "    <tr>\n",
       "      <th>1</th>\n",
       "      <td>-1.418258</td>\n",
       "      <td>-0.678519</td>\n",
       "      <td>0.612731</td>\n",
       "      <td>2.210114</td>\n",
       "    </tr>\n",
       "    <tr>\n",
       "      <th>2</th>\n",
       "      <td>-0.507645</td>\n",
       "      <td>-0.545676</td>\n",
       "      <td>1.416182</td>\n",
       "      <td>0.611938</td>\n",
       "    </tr>\n",
       "    <tr>\n",
       "      <th>3</th>\n",
       "      <td>-2.329660</td>\n",
       "      <td>0.700192</td>\n",
       "      <td>-0.849239</td>\n",
       "      <td>-1.259993</td>\n",
       "    </tr>\n",
       "    <tr>\n",
       "      <th>4</th>\n",
       "      <td>1.366015</td>\n",
       "      <td>-0.645348</td>\n",
       "      <td>-1.366456</td>\n",
       "      <td>-0.916721</td>\n",
       "    </tr>\n",
       "    <tr>\n",
       "      <th>5</th>\n",
       "      <td>0.316786</td>\n",
       "      <td>0.004082</td>\n",
       "      <td>0.029140</td>\n",
       "      <td>-0.380435</td>\n",
       "    </tr>\n",
       "    <tr>\n",
       "      <th>6</th>\n",
       "      <td>0.076025</td>\n",
       "      <td>-0.500024</td>\n",
       "      <td>0.204253</td>\n",
       "      <td>0.606352</td>\n",
       "    </tr>\n",
       "    <tr>\n",
       "      <th>7</th>\n",
       "      <td>0.606730</td>\n",
       "      <td>-2.072001</td>\n",
       "      <td>-1.493785</td>\n",
       "      <td>-0.409526</td>\n",
       "    </tr>\n",
       "    <tr>\n",
       "      <th>8</th>\n",
       "      <td>-1.134759</td>\n",
       "      <td>0.338726</td>\n",
       "      <td>-0.447685</td>\n",
       "      <td>0.836523</td>\n",
       "    </tr>\n",
       "    <tr>\n",
       "      <th>9</th>\n",
       "      <td>0.393375</td>\n",
       "      <td>0.423216</td>\n",
       "      <td>-0.577549</td>\n",
       "      <td>1.906305</td>\n",
       "    </tr>\n",
       "  </tbody>\n",
       "</table>\n",
       "</div>"
      ],
      "text/plain": [
       "          a         b         c         d\n",
       "0 -0.430665  0.916951 -1.474236 -1.413509\n",
       "1 -1.418258 -0.678519  0.612731  2.210114\n",
       "2 -0.507645 -0.545676  1.416182  0.611938\n",
       "3 -2.329660  0.700192 -0.849239 -1.259993\n",
       "4  1.366015 -0.645348 -1.366456 -0.916721\n",
       "5  0.316786  0.004082  0.029140 -0.380435\n",
       "6  0.076025 -0.500024  0.204253  0.606352\n",
       "7  0.606730 -2.072001 -1.493785 -0.409526\n",
       "8 -1.134759  0.338726 -0.447685  0.836523\n",
       "9  0.393375  0.423216 -0.577549  1.906305"
      ]
     },
     "execution_count": 2,
     "metadata": {},
     "output_type": "execute_result"
    }
   ],
   "source": [
    "df = pd.DataFrame(randn(10,4),columns = ['a','b','c','d'])\n",
    "df"
   ]
  },
  {
   "cell_type": "code",
   "execution_count": 3,
   "metadata": {},
   "outputs": [
    {
     "data": {
      "image/png": "[encoded data removed]",
      "text/plain": [
       "<Figure size 432x288 with 1 Axes>"
      ]
     },
     "metadata": {
      "needs_background": "light"
     },
     "output_type": "display_data"
    }
   ],
   "source": [
    "df.plot.bar()\n",
    "plt.title(\"Bar Graph\")\n",
    "plt.show()"
   ]
  },
  {
   "cell_type": "code",
   "execution_count": null,
   "metadata": {},
   "outputs": [],
   "source": []
  }
 ],
 "metadata": {
  "kernelspec": {
   "display_name": "Python 3.8.2 64-bit",
   "language": "python",
   "name": "python38264bit43c5735170dd49f68df3cdf496e483f8"
  },
  "language_info": {
   "codemirror_mode": {
    "name": "ipython",
    "version": 3
   },
   "file_extension": ".py",
   "mimetype": "text/x-python",
   "name": "python",
   "nbconvert_exporter": "python",
   "pygments_lexer": "ipython3",
   "version": "3.8.2"
  }
 },
 "nbformat": 4,
 "nbformat_minor": 4
}
